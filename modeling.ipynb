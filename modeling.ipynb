{
 "cells": [
  {
   "cell_type": "code",
   "execution_count": 1,
   "id": "6bf8b171",
   "metadata": {},
   "outputs": [],
   "source": [
    "import numpy as np\n",
    "import matplotlib.pyplot as plt\n",
    "import pandas as pd\n",
    "import wrangle as acq\n",
    "import seaborn as sns\n",
    "from sklearn.feature_selection import SelectKBest, RFE, f_regression, SequentialFeatureSelector\n",
    "from sklearn.linear_model import LinearRegression\n",
    "from pydataset import data\n",
    "from sklearn.linear_model import LassoLars\n",
    "import warnings\n",
    "warnings.filterwarnings(\"ignore\")\n",
    "from sklearn.metrics import mean_squared_error\n",
    "from sklearn.metrics import r2_score\n",
    "from sklearn.preprocessing import PolynomialFeatures\n",
    "from sklearn.linear_model import TweedieRegressor\n",
    "\n"
   ]
  },
  {
   "cell_type": "code",
   "execution_count": 2,
   "id": "bd8f5ea3",
   "metadata": {},
   "outputs": [
    {
     "data": {
      "text/html": [
       "<div>\n",
       "<style scoped>\n",
       "    .dataframe tbody tr th:only-of-type {\n",
       "        vertical-align: middle;\n",
       "    }\n",
       "\n",
       "    .dataframe tbody tr th {\n",
       "        vertical-align: top;\n",
       "    }\n",
       "\n",
       "    .dataframe thead th {\n",
       "        text-align: right;\n",
       "    }\n",
       "</style>\n",
       "<table border=\"1\" class=\"dataframe\">\n",
       "  <thead>\n",
       "    <tr style=\"text-align: right;\">\n",
       "      <th></th>\n",
       "      <th>total_bill</th>\n",
       "      <th>tip</th>\n",
       "      <th>sex</th>\n",
       "      <th>smoker</th>\n",
       "      <th>day</th>\n",
       "      <th>time</th>\n",
       "      <th>size</th>\n",
       "    </tr>\n",
       "  </thead>\n",
       "  <tbody>\n",
       "    <tr>\n",
       "      <th>1</th>\n",
       "      <td>16.99</td>\n",
       "      <td>1.01</td>\n",
       "      <td>Female</td>\n",
       "      <td>No</td>\n",
       "      <td>Sun</td>\n",
       "      <td>Dinner</td>\n",
       "      <td>2</td>\n",
       "    </tr>\n",
       "    <tr>\n",
       "      <th>2</th>\n",
       "      <td>10.34</td>\n",
       "      <td>1.66</td>\n",
       "      <td>Male</td>\n",
       "      <td>No</td>\n",
       "      <td>Sun</td>\n",
       "      <td>Dinner</td>\n",
       "      <td>3</td>\n",
       "    </tr>\n",
       "    <tr>\n",
       "      <th>3</th>\n",
       "      <td>21.01</td>\n",
       "      <td>3.50</td>\n",
       "      <td>Male</td>\n",
       "      <td>No</td>\n",
       "      <td>Sun</td>\n",
       "      <td>Dinner</td>\n",
       "      <td>3</td>\n",
       "    </tr>\n",
       "    <tr>\n",
       "      <th>4</th>\n",
       "      <td>23.68</td>\n",
       "      <td>3.31</td>\n",
       "      <td>Male</td>\n",
       "      <td>No</td>\n",
       "      <td>Sun</td>\n",
       "      <td>Dinner</td>\n",
       "      <td>2</td>\n",
       "    </tr>\n",
       "    <tr>\n",
       "      <th>5</th>\n",
       "      <td>24.59</td>\n",
       "      <td>3.61</td>\n",
       "      <td>Female</td>\n",
       "      <td>No</td>\n",
       "      <td>Sun</td>\n",
       "      <td>Dinner</td>\n",
       "      <td>4</td>\n",
       "    </tr>\n",
       "  </tbody>\n",
       "</table>\n",
       "</div>"
      ],
      "text/plain": [
       "   total_bill   tip     sex smoker  day    time  size\n",
       "1       16.99  1.01  Female     No  Sun  Dinner     2\n",
       "2       10.34  1.66    Male     No  Sun  Dinner     3\n",
       "3       21.01  3.50    Male     No  Sun  Dinner     3\n",
       "4       23.68  3.31    Male     No  Sun  Dinner     2\n",
       "5       24.59  3.61  Female     No  Sun  Dinner     4"
      ]
     },
     "execution_count": 2,
     "metadata": {},
     "output_type": "execute_result"
    }
   ],
   "source": [
    "df = data('tips')\n",
    "df.head()\n",
    "df = df.dropna()\n",
    "df.head()"
   ]
  },
  {
   "cell_type": "code",
   "execution_count": 3,
   "id": "d7270ba5",
   "metadata": {},
   "outputs": [],
   "source": [
    "#df = acq.prep_tips(df)"
   ]
  },
  {
   "cell_type": "code",
   "execution_count": 4,
   "id": "c87d6c9e",
   "metadata": {},
   "outputs": [
    {
     "data": {
      "text/html": [
       "<div>\n",
       "<style scoped>\n",
       "    .dataframe tbody tr th:only-of-type {\n",
       "        vertical-align: middle;\n",
       "    }\n",
       "\n",
       "    .dataframe tbody tr th {\n",
       "        vertical-align: top;\n",
       "    }\n",
       "\n",
       "    .dataframe thead th {\n",
       "        text-align: right;\n",
       "    }\n",
       "</style>\n",
       "<table border=\"1\" class=\"dataframe\">\n",
       "  <thead>\n",
       "    <tr style=\"text-align: right;\">\n",
       "      <th></th>\n",
       "      <th>total_bill</th>\n",
       "      <th>tip</th>\n",
       "      <th>sex</th>\n",
       "      <th>smoker</th>\n",
       "      <th>day</th>\n",
       "      <th>time</th>\n",
       "      <th>size</th>\n",
       "    </tr>\n",
       "  </thead>\n",
       "  <tbody>\n",
       "    <tr>\n",
       "      <th>1</th>\n",
       "      <td>16.99</td>\n",
       "      <td>1.01</td>\n",
       "      <td>Female</td>\n",
       "      <td>No</td>\n",
       "      <td>Sun</td>\n",
       "      <td>Dinner</td>\n",
       "      <td>2</td>\n",
       "    </tr>\n",
       "    <tr>\n",
       "      <th>2</th>\n",
       "      <td>10.34</td>\n",
       "      <td>1.66</td>\n",
       "      <td>Male</td>\n",
       "      <td>No</td>\n",
       "      <td>Sun</td>\n",
       "      <td>Dinner</td>\n",
       "      <td>3</td>\n",
       "    </tr>\n",
       "    <tr>\n",
       "      <th>3</th>\n",
       "      <td>21.01</td>\n",
       "      <td>3.50</td>\n",
       "      <td>Male</td>\n",
       "      <td>No</td>\n",
       "      <td>Sun</td>\n",
       "      <td>Dinner</td>\n",
       "      <td>3</td>\n",
       "    </tr>\n",
       "    <tr>\n",
       "      <th>4</th>\n",
       "      <td>23.68</td>\n",
       "      <td>3.31</td>\n",
       "      <td>Male</td>\n",
       "      <td>No</td>\n",
       "      <td>Sun</td>\n",
       "      <td>Dinner</td>\n",
       "      <td>2</td>\n",
       "    </tr>\n",
       "    <tr>\n",
       "      <th>5</th>\n",
       "      <td>24.59</td>\n",
       "      <td>3.61</td>\n",
       "      <td>Female</td>\n",
       "      <td>No</td>\n",
       "      <td>Sun</td>\n",
       "      <td>Dinner</td>\n",
       "      <td>4</td>\n",
       "    </tr>\n",
       "  </tbody>\n",
       "</table>\n",
       "</div>"
      ],
      "text/plain": [
       "   total_bill   tip     sex smoker  day    time  size\n",
       "1       16.99  1.01  Female     No  Sun  Dinner     2\n",
       "2       10.34  1.66    Male     No  Sun  Dinner     3\n",
       "3       21.01  3.50    Male     No  Sun  Dinner     3\n",
       "4       23.68  3.31    Male     No  Sun  Dinner     2\n",
       "5       24.59  3.61  Female     No  Sun  Dinner     4"
      ]
     },
     "execution_count": 4,
     "metadata": {},
     "output_type": "execute_result"
    }
   ],
   "source": [
    "df.head()"
   ]
  },
  {
   "cell_type": "code",
   "execution_count": 5,
   "id": "4e4ba497",
   "metadata": {},
   "outputs": [],
   "source": [
    "df['price_per_person'] = (df['total_bill'] + df['tip'] / df['size'])\n",
    "df['sex'] = df['sex'].replace({'Male': '0', 'Female': '1',})\n",
    "df['smoker'] = df['smoker'].replace({'Yes': '1', 'No': '0'})\n",
    "df['day'] = df['day'].replace({'Sun': '1', 'Mon': '2', 'Tue': '3', 'Wed': '4', 'Thur': '5', 'Fri': '6', 'Sat': '7'})\n",
    "df['time'] = df['time'].replace({'Lunch': '1', 'Dinner': '2'})"
   ]
  },
  {
   "cell_type": "code",
   "execution_count": 6,
   "id": "ab0ba4af",
   "metadata": {},
   "outputs": [
    {
     "name": "stdout",
     "output_type": "stream",
     "text": [
      "\n",
      "    X_train -> (136, 7)'\n",
      "    X_validate -> (59, 7)'\n",
      "    X_test -> (49, 7)\n"
     ]
    }
   ],
   "source": [
    "X, Y = acq.split_tips_data(df)\n",
    "\n",
    "# splitting data into train, validate, and test\n",
    "X_train, X_validate, X_test, y_train, y_validate, y_test = acq.train_validate_test_split(X, Y)\n",
    "\n",
    "\n",
    "X_train = pd.DataFrame(X_train)\n",
    "X_validate = pd.DataFrame(X_validate)\n",
    "X_test = pd.DataFrame(X_test)\n",
    "y_train = pd.DataFrame(y_train)\n",
    "y_validate = pd.DataFrame(y_validate)\n",
    "y_test = pd.DataFrame(y_test)"
   ]
  },
  {
   "cell_type": "code",
   "execution_count": 7,
   "id": "c9c3291f",
   "metadata": {},
   "outputs": [
    {
     "data": {
      "image/png": "[encoded data removed]",
      "text/plain": [
       "<Figure size 640x480 with 1 Axes>"
      ]
     },
     "metadata": {},
     "output_type": "display_data"
    }
   ],
   "source": [
    "sns.histplot(y_train)\n",
    "plt.title('distribution of target variable')\n",
    "plt.show()"
   ]
  },
  {
   "cell_type": "code",
   "execution_count": 8,
   "id": "04f6a992",
   "metadata": {},
   "outputs": [
    {
     "data": {
      "text/plain": [
       "tip    2.946985\n",
       "dtype: float64"
      ]
     },
     "execution_count": 8,
     "metadata": {},
     "output_type": "execute_result"
    }
   ],
   "source": [
    "baseline = y_train.mean()\n",
    "baseline"
   ]
  },
  {
   "cell_type": "code",
   "execution_count": 9,
   "id": "ab560e9a",
   "metadata": {},
   "outputs": [],
   "source": [
    "def metrics_reg(y, yhat):\n",
    "    \"\"\"\n",
    "    send in y_true, y_pred & returns RMSE, R2\n",
    "    \"\"\"\n",
    "    rmse = mean_squared_error(y, yhat, squared=False)\n",
    "    r2 = r2_score(y, yhat)\n",
    "    return rmse, r2\n"
   ]
  },
  {
   "cell_type": "code",
   "execution_count": 10,
   "id": "802a6707",
   "metadata": {},
   "outputs": [
    {
     "data": {
      "text/plain": [
       "tip    2.946985\n",
       "tip    2.946985\n",
       "tip    2.946985\n",
       "tip    2.946985\n",
       "tip    2.946985\n",
       "dtype: float64"
      ]
     },
     "execution_count": 10,
     "metadata": {},
     "output_type": "execute_result"
    }
   ],
   "source": [
    "#make an array to send into my mean_square_error function\n",
    "baseline_array = np.repeat(baseline, len(y_train))\n",
    "baseline_array[:5]\n"
   ]
  },
  {
   "cell_type": "code",
   "execution_count": 11,
   "id": "48af355d",
   "metadata": {},
   "outputs": [
    {
     "data": {
      "text/plain": [
       "(1.4512460770849047, 0.0)"
      ]
     },
     "execution_count": 11,
     "metadata": {},
     "output_type": "execute_result"
    }
   ],
   "source": [
    "rmse, r2 = metrics_reg(y_train, baseline_array)\n",
    "rmse, r2\n"
   ]
  },
  {
   "cell_type": "code",
   "execution_count": 12,
   "id": "2bbb7173",
   "metadata": {},
   "outputs": [
    {
     "data": {
      "text/html": [
       "<div>\n",
       "<style scoped>\n",
       "    .dataframe tbody tr th:only-of-type {\n",
       "        vertical-align: middle;\n",
       "    }\n",
       "\n",
       "    .dataframe tbody tr th {\n",
       "        vertical-align: top;\n",
       "    }\n",
       "\n",
       "    .dataframe thead th {\n",
       "        text-align: right;\n",
       "    }\n",
       "</style>\n",
       "<table border=\"1\" class=\"dataframe\">\n",
       "  <thead>\n",
       "    <tr style=\"text-align: right;\">\n",
       "      <th></th>\n",
       "      <th>model</th>\n",
       "      <th>rmse</th>\n",
       "      <th>r2</th>\n",
       "    </tr>\n",
       "  </thead>\n",
       "  <tbody>\n",
       "    <tr>\n",
       "      <th>0</th>\n",
       "      <td>baseline</td>\n",
       "      <td>1.451246</td>\n",
       "      <td>0.0</td>\n",
       "    </tr>\n",
       "  </tbody>\n",
       "</table>\n",
       "</div>"
      ],
      "text/plain": [
       "      model      rmse   r2\n",
       "0  baseline  1.451246  0.0"
      ]
     },
     "execution_count": 12,
     "metadata": {},
     "output_type": "execute_result"
    }
   ],
   "source": [
    "metrics_df = pd.DataFrame(data=[\n",
    "    {\n",
    "        'model':'baseline',\n",
    "        'rmse':rmse,\n",
    "        'r2':r2\n",
    "    }\n",
    "    \n",
    "])\n",
    "metrics_df\n"
   ]
  },
  {
   "cell_type": "markdown",
   "id": "de385f98",
   "metadata": {},
   "source": [
    "OLS"
   ]
  },
  {
   "cell_type": "code",
   "execution_count": 13,
   "id": "8d6c5060",
   "metadata": {},
   "outputs": [],
   "source": [
    "#intial ML model\n",
    "lr1 = LinearRegression()\n",
    "\n",
    "#make it\n",
    "rfe = RFE(lr1, n_features_to_select=1)\n",
    "\n",
    "#fit it\n",
    "rfe.fit(X_train, y_train)\n",
    "\n",
    "#use it on train\n",
    "X_train_rfe = rfe.transform(X_train)\n",
    "\n",
    "#use it on validate\n",
    "X_val_rfe = rfe.transform(X_validate)"
   ]
  },
  {
   "cell_type": "code",
   "execution_count": 14,
   "id": "9e040185",
   "metadata": {},
   "outputs": [
    {
     "name": "stdout",
     "output_type": "stream",
     "text": [
      "selected top feature: ['price_per_person']\n"
     ]
    }
   ],
   "source": [
    "print('selected top feature:', rfe.get_feature_names_out())\n"
   ]
  },
  {
   "cell_type": "code",
   "execution_count": 15,
   "id": "2acdc89d",
   "metadata": {},
   "outputs": [],
   "source": [
    "#fit the thing\n",
    "lr1.fit(X_train_rfe, y_train)\n",
    "\n",
    "#use the thing (make predictions)\n",
    "pred_lr1 = lr1.predict(X_train_rfe)\n",
    "pred_val_lr1 = lr1.predict(X_val_rfe)"
   ]
  },
  {
   "cell_type": "code",
   "execution_count": 16,
   "id": "8927678a",
   "metadata": {},
   "outputs": [
    {
     "data": {
      "text/plain": [
       "array([[2.73287696],\n",
       "       [1.77013542],\n",
       "       [2.17612007],\n",
       "       [3.39465318],\n",
       "       [4.50256851],\n",
       "       [5.20507833],\n",
       "       [3.50411267],\n",
       "       [3.16820525],\n",
       "       [2.80160285],\n",
       "       [3.22380372]])"
      ]
     },
     "execution_count": 16,
     "metadata": {},
     "output_type": "execute_result"
    }
   ],
   "source": [
    "pred_lr1[:10]"
   ]
  },
  {
   "cell_type": "code",
   "execution_count": 17,
   "id": "38fa631d",
   "metadata": {},
   "outputs": [
    {
     "data": {
      "text/plain": [
       "(1.0254307465510644, 0.5007356540479637)"
      ]
     },
     "execution_count": 17,
     "metadata": {},
     "output_type": "execute_result"
    }
   ],
   "source": [
    "metrics_reg(y_train, pred_lr1)"
   ]
  },
  {
   "cell_type": "code",
   "execution_count": 18,
   "id": "257581c0",
   "metadata": {},
   "outputs": [
    {
     "data": {
      "text/plain": [
       "(1.0308410229652665, 0.5259436889531441)"
      ]
     },
     "execution_count": 18,
     "metadata": {},
     "output_type": "execute_result"
    }
   ],
   "source": [
    "#validate\n",
    "rmse, r2 = metrics_reg(y_validate, pred_val_lr1)\n",
    "rmse, r2"
   ]
  },
  {
   "cell_type": "code",
   "execution_count": 19,
   "id": "3f59cfde",
   "metadata": {},
   "outputs": [
    {
     "data": {
      "text/html": [
       "<div>\n",
       "<style scoped>\n",
       "    .dataframe tbody tr th:only-of-type {\n",
       "        vertical-align: middle;\n",
       "    }\n",
       "\n",
       "    .dataframe tbody tr th {\n",
       "        vertical-align: top;\n",
       "    }\n",
       "\n",
       "    .dataframe thead th {\n",
       "        text-align: right;\n",
       "    }\n",
       "</style>\n",
       "<table border=\"1\" class=\"dataframe\">\n",
       "  <thead>\n",
       "    <tr style=\"text-align: right;\">\n",
       "      <th></th>\n",
       "      <th>model</th>\n",
       "      <th>rmse</th>\n",
       "      <th>r2</th>\n",
       "    </tr>\n",
       "  </thead>\n",
       "  <tbody>\n",
       "    <tr>\n",
       "      <th>0</th>\n",
       "      <td>baseline</td>\n",
       "      <td>1.451246</td>\n",
       "      <td>0.000000</td>\n",
       "    </tr>\n",
       "    <tr>\n",
       "      <th>1</th>\n",
       "      <td>ols_1</td>\n",
       "      <td>1.030841</td>\n",
       "      <td>0.525944</td>\n",
       "    </tr>\n",
       "  </tbody>\n",
       "</table>\n",
       "</div>"
      ],
      "text/plain": [
       "      model      rmse        r2\n",
       "0  baseline  1.451246  0.000000\n",
       "1     ols_1  1.030841  0.525944"
      ]
     },
     "execution_count": 19,
     "metadata": {},
     "output_type": "execute_result"
    }
   ],
   "source": [
    "#add to my metrics df\n",
    "metrics_df.loc[1] = ['ols_1', rmse, r2]\n",
    "metrics_df"
   ]
  },
  {
   "cell_type": "code",
   "execution_count": 20,
   "id": "5a50da95",
   "metadata": {},
   "outputs": [
    {
     "data": {
      "text/plain": [
       "array([0.63210426])"
      ]
     },
     "execution_count": 20,
     "metadata": {},
     "output_type": "execute_result"
    }
   ],
   "source": [
    "lr1.intercept_\n"
   ]
  },
  {
   "cell_type": "code",
   "execution_count": 21,
   "id": "d65adbad",
   "metadata": {},
   "outputs": [
    {
     "data": {
      "text/plain": [
       "array([[0.11583014]])"
      ]
     },
     "execution_count": 21,
     "metadata": {},
     "output_type": "execute_result"
    }
   ],
   "source": [
    "lr1.coef_\n"
   ]
  },
  {
   "cell_type": "code",
   "execution_count": 22,
   "id": "1d6f55ae",
   "metadata": {},
   "outputs": [],
   "source": [
    "#print(f'tip = {lr1.intercept_:.3} + {lr1.coef_[0]:.2}*total_bill')\n"
   ]
  },
  {
   "cell_type": "code",
   "execution_count": 23,
   "id": "0e0440e2",
   "metadata": {},
   "outputs": [
    {
     "data": {
      "image/png": "[encoded data removed]",
      "text/plain": [
       "<Figure size 400x400 with 1 Axes>"
      ]
     },
     "metadata": {},
     "output_type": "display_data"
    }
   ],
   "source": [
    "plt.figure(figsize=(4, 4))\n",
    "\n",
    "plt.scatter(X_train.total_bill, y_train.tip)\n",
    "\n",
    "#build prediction line from intercept and slope\n",
    "x_val = np.array([-2, 100]).reshape(-1, 1)\n",
    "plt.plot(x_val, lr1.intercept_ + x_val*lr1.coef_[0], c='black')\n",
    "\n",
    "#intercept line\n",
    "plt.hlines(22, -5, 100, ls=':', color='red')  \n",
    "\n",
    "#(0,0) axis\n",
    "plt.hlines(0, -5, 100, ls='--', color='grey')\n",
    "plt.vlines(0, -10, 100, ls='--', color='grey')\n",
    " \n",
    "plt.xlabel('total_bill')\n",
    "plt.ylabel('Tip')\n",
    "plt.show()"
   ]
  },
  {
   "cell_type": "code",
   "execution_count": 24,
   "id": "3df887e1",
   "metadata": {},
   "outputs": [],
   "source": [
    "#make it\n",
    "lr2 = LinearRegression()\n",
    "\n",
    "#fit it on our RFE features\n",
    "lr2.fit(X_train, y_train)\n",
    "\n",
    "#use it (make predictions)\n",
    "pred_lr2 = lr2.predict(X_train)\n",
    "\n",
    "#use it on validate\n",
    "pred_val_lr2 = lr2.predict(X_validate)"
   ]
  },
  {
   "cell_type": "code",
   "execution_count": 25,
   "id": "2985cfa1",
   "metadata": {},
   "outputs": [
    {
     "data": {
      "text/plain": [
       "array([[3.31958592],\n",
       "       [5.33507253],\n",
       "       [1.65199757],\n",
       "       [4.79498887],\n",
       "       [1.19190009],\n",
       "       [3.55228032],\n",
       "       [5.27683532],\n",
       "       [3.3463512 ],\n",
       "       [2.63600841],\n",
       "       [3.66296814]])"
      ]
     },
     "execution_count": 25,
     "metadata": {},
     "output_type": "execute_result"
    }
   ],
   "source": [
    "pred_lr2[:10]"
   ]
  },
  {
   "cell_type": "code",
   "execution_count": 26,
   "id": "787f2654",
   "metadata": {},
   "outputs": [
    {
     "data": {
      "text/plain": [
       "(0.3682207635607762, 0.935622452064365)"
      ]
     },
     "execution_count": 26,
     "metadata": {},
     "output_type": "execute_result"
    }
   ],
   "source": [
    "metrics_reg(y_train, pred_lr2)\n"
   ]
  },
  {
   "cell_type": "code",
   "execution_count": 27,
   "id": "df8df9d0",
   "metadata": {},
   "outputs": [
    {
     "data": {
      "text/plain": [
       "(0.3546704242773415, 0.9438827351898619)"
      ]
     },
     "execution_count": 27,
     "metadata": {},
     "output_type": "execute_result"
    }
   ],
   "source": [
    "rmse, r2 = metrics_reg(y_validate, pred_val_lr2)\n",
    "rmse, r2"
   ]
  },
  {
   "cell_type": "code",
   "execution_count": 28,
   "id": "8e9dc762",
   "metadata": {},
   "outputs": [
    {
     "data": {
      "text/html": [
       "<div>\n",
       "<style scoped>\n",
       "    .dataframe tbody tr th:only-of-type {\n",
       "        vertical-align: middle;\n",
       "    }\n",
       "\n",
       "    .dataframe tbody tr th {\n",
       "        vertical-align: top;\n",
       "    }\n",
       "\n",
       "    .dataframe thead th {\n",
       "        text-align: right;\n",
       "    }\n",
       "</style>\n",
       "<table border=\"1\" class=\"dataframe\">\n",
       "  <thead>\n",
       "    <tr style=\"text-align: right;\">\n",
       "      <th></th>\n",
       "      <th>model</th>\n",
       "      <th>rmse</th>\n",
       "      <th>r2</th>\n",
       "    </tr>\n",
       "  </thead>\n",
       "  <tbody>\n",
       "    <tr>\n",
       "      <th>0</th>\n",
       "      <td>baseline</td>\n",
       "      <td>1.451246</td>\n",
       "      <td>0.000000</td>\n",
       "    </tr>\n",
       "    <tr>\n",
       "      <th>1</th>\n",
       "      <td>ols_1</td>\n",
       "      <td>1.030841</td>\n",
       "      <td>0.525944</td>\n",
       "    </tr>\n",
       "    <tr>\n",
       "      <th>2</th>\n",
       "      <td>ols</td>\n",
       "      <td>0.354670</td>\n",
       "      <td>0.943883</td>\n",
       "    </tr>\n",
       "  </tbody>\n",
       "</table>\n",
       "</div>"
      ],
      "text/plain": [
       "      model      rmse        r2\n",
       "0  baseline  1.451246  0.000000\n",
       "1     ols_1  1.030841  0.525944\n",
       "2       ols  0.354670  0.943883"
      ]
     },
     "execution_count": 28,
     "metadata": {},
     "output_type": "execute_result"
    }
   ],
   "source": [
    "metrics_df.loc[2] = ['ols', rmse, r2]\n",
    "metrics_df"
   ]
  },
  {
   "cell_type": "code",
   "execution_count": 29,
   "id": "a65b6c3c",
   "metadata": {},
   "outputs": [],
   "source": [
    "#make it\n",
    "lars = LassoLars(alpha=0)\n",
    "\n",
    "#fit it\n",
    "lars.fit(X_train, y_train)\n",
    "\n",
    "#use it\n",
    "pred_lars = lars.predict(X_train)"
   ]
  },
  {
   "cell_type": "code",
   "execution_count": 30,
   "id": "8b8aed1e",
   "metadata": {},
   "outputs": [
    {
     "data": {
      "text/plain": [
       "total_bill         -2.306693\n",
       "sex                -0.005515\n",
       "smoker             -0.157825\n",
       "day                 0.006821\n",
       "time                0.059314\n",
       "size                0.937668\n",
       "price_per_person    2.323913\n",
       "dtype: float64"
      ]
     },
     "execution_count": 30,
     "metadata": {},
     "output_type": "execute_result"
    }
   ],
   "source": [
    "pd.Series(lars.coef_, index=lars.feature_names_in_)\n"
   ]
  },
  {
   "cell_type": "code",
   "execution_count": 31,
   "id": "2b3b04c3",
   "metadata": {},
   "outputs": [
    {
     "data": {
      "text/plain": [
       "array([[-2.30669264, -0.00551506, -0.15782491,  0.00682068,  0.05931378,\n",
       "         0.93766806,  2.32391273]])"
      ]
     },
     "execution_count": 31,
     "metadata": {},
     "output_type": "execute_result"
    }
   ],
   "source": [
    "lr2.coef_\n"
   ]
  },
  {
   "cell_type": "code",
   "execution_count": 32,
   "id": "5681b26c",
   "metadata": {},
   "outputs": [],
   "source": [
    "#make it\n",
    "lars = LassoLars(alpha=1)\n",
    "\n",
    "#fit it\n",
    "lars.fit(X_train, y_train)\n",
    "\n",
    "#use it\n",
    "pred_lars = lars.predict(X_train)\n",
    "pred_val_lars = lars.predict(X_validate)"
   ]
  },
  {
   "cell_type": "code",
   "execution_count": 33,
   "id": "1594c16d",
   "metadata": {},
   "outputs": [
    {
     "data": {
      "text/plain": [
       "(1.4512460770849047, 0.0)"
      ]
     },
     "execution_count": 33,
     "metadata": {},
     "output_type": "execute_result"
    }
   ],
   "source": [
    "metrics_reg(y_train, pred_lars)\n"
   ]
  },
  {
   "cell_type": "code",
   "execution_count": 34,
   "id": "f0f057e5",
   "metadata": {},
   "outputs": [
    {
     "data": {
      "text/plain": [
       "(1.5173853468530591, -0.02716051848516643)"
      ]
     },
     "execution_count": 34,
     "metadata": {},
     "output_type": "execute_result"
    }
   ],
   "source": [
    "#validate\n",
    "rmse, r2 = metrics_reg(y_validate, pred_val_lars)\n",
    "rmse, r2\n"
   ]
  },
  {
   "cell_type": "code",
   "execution_count": 35,
   "id": "68d8e843",
   "metadata": {},
   "outputs": [],
   "source": [
    "# make the polynomial features to get a new set of features\n",
    "pf = PolynomialFeatures(degree=2)\n",
    "\n",
    "# fit and transform X_train_scaled\n",
    "X_train_degree2 = pf.fit_transform(X_train)\n",
    "\n",
    "# transform X_validate_scaled & X_test_scaled\n",
    "X_validate_degree2 = pf.transform(X_validate)\n",
    "X_test_degree2 = pf.transform(X_test)"
   ]
  },
  {
   "cell_type": "code",
   "execution_count": 36,
   "id": "b56a755d",
   "metadata": {},
   "outputs": [],
   "source": [
    "#make it\n",
    "pr = LinearRegression()\n",
    "\n",
    "#fit it\n",
    "pr.fit(X_train_degree2, y_train)\n",
    "\n",
    "#use it\n",
    "pred_pr = pr.predict(X_train_degree2)\n",
    "pred_val_pr = pr.predict(X_validate_degree2)"
   ]
  },
  {
   "cell_type": "code",
   "execution_count": 37,
   "id": "ac48e5cd",
   "metadata": {},
   "outputs": [
    {
     "data": {
      "text/plain": [
       "(2.9968371276173e-14, 1.0)"
      ]
     },
     "execution_count": 37,
     "metadata": {},
     "output_type": "execute_result"
    }
   ],
   "source": [
    "metrics_reg(y_train, pred_pr)\n"
   ]
  },
  {
   "cell_type": "code",
   "execution_count": 38,
   "id": "cc1ab6d0",
   "metadata": {},
   "outputs": [
    {
     "data": {
      "text/plain": [
       "(1.5173853468530591, -0.02716051848516643)"
      ]
     },
     "execution_count": 38,
     "metadata": {},
     "output_type": "execute_result"
    }
   ],
   "source": [
    "rmse, r2 = metrics_reg(y_validate, pred_val_lars)\n",
    "rmse, r2"
   ]
  },
  {
   "cell_type": "code",
   "execution_count": 39,
   "id": "0afd33eb",
   "metadata": {},
   "outputs": [
    {
     "data": {
      "text/html": [
       "<div>\n",
       "<style scoped>\n",
       "    .dataframe tbody tr th:only-of-type {\n",
       "        vertical-align: middle;\n",
       "    }\n",
       "\n",
       "    .dataframe tbody tr th {\n",
       "        vertical-align: top;\n",
       "    }\n",
       "\n",
       "    .dataframe thead th {\n",
       "        text-align: right;\n",
       "    }\n",
       "</style>\n",
       "<table border=\"1\" class=\"dataframe\">\n",
       "  <thead>\n",
       "    <tr style=\"text-align: right;\">\n",
       "      <th></th>\n",
       "      <th>model</th>\n",
       "      <th>rmse</th>\n",
       "      <th>r2</th>\n",
       "    </tr>\n",
       "  </thead>\n",
       "  <tbody>\n",
       "    <tr>\n",
       "      <th>0</th>\n",
       "      <td>baseline</td>\n",
       "      <td>1.451246</td>\n",
       "      <td>0.000000</td>\n",
       "    </tr>\n",
       "    <tr>\n",
       "      <th>1</th>\n",
       "      <td>ols_1</td>\n",
       "      <td>1.030841</td>\n",
       "      <td>0.525944</td>\n",
       "    </tr>\n",
       "    <tr>\n",
       "      <th>2</th>\n",
       "      <td>ols</td>\n",
       "      <td>0.354670</td>\n",
       "      <td>0.943883</td>\n",
       "    </tr>\n",
       "    <tr>\n",
       "      <th>3</th>\n",
       "      <td>lars</td>\n",
       "      <td>1.517385</td>\n",
       "      <td>-0.027161</td>\n",
       "    </tr>\n",
       "  </tbody>\n",
       "</table>\n",
       "</div>"
      ],
      "text/plain": [
       "      model      rmse        r2\n",
       "0  baseline  1.451246  0.000000\n",
       "1     ols_1  1.030841  0.525944\n",
       "2       ols  0.354670  0.943883\n",
       "3      lars  1.517385 -0.027161"
      ]
     },
     "execution_count": 39,
     "metadata": {},
     "output_type": "execute_result"
    }
   ],
   "source": [
    "#add to my metrics df\n",
    "metrics_df.loc[3] = ['lars', rmse, r2]\n",
    "metrics_df"
   ]
  },
  {
   "cell_type": "code",
   "execution_count": 40,
   "id": "0f149b72",
   "metadata": {},
   "outputs": [],
   "source": [
    "glm = TweedieRegressor(power=1, alpha=0)\n",
    "\n",
    "#fit it\n",
    "glm.fit(X_train, y_train)\n",
    "\n",
    "#use it\n",
    "pred_glm = glm.predict(X_train)\n",
    "pred_val_glm = glm.predict(X_validate)"
   ]
  },
  {
   "cell_type": "code",
   "execution_count": 41,
   "id": "add6eda8",
   "metadata": {},
   "outputs": [
    {
     "data": {
      "text/plain": [
       "(0.33652965993994033, 0.9462269617083772)"
      ]
     },
     "execution_count": 41,
     "metadata": {},
     "output_type": "execute_result"
    }
   ],
   "source": [
    "metrics_reg(y_train, pred_glm)\n"
   ]
  },
  {
   "cell_type": "code",
   "execution_count": 42,
   "id": "4bc3defe",
   "metadata": {},
   "outputs": [
    {
     "data": {
      "text/plain": [
       "(0.8450784511184269, 0.681403792699891)"
      ]
     },
     "execution_count": 42,
     "metadata": {},
     "output_type": "execute_result"
    }
   ],
   "source": [
    "#validate\n",
    "rmse, r2 = metrics_reg(y_validate, pred_val_glm)\n",
    "rmse, r2\n"
   ]
  },
  {
   "cell_type": "code",
   "execution_count": 43,
   "id": "7b66e899",
   "metadata": {},
   "outputs": [
    {
     "data": {
      "text/html": [
       "<div>\n",
       "<style scoped>\n",
       "    .dataframe tbody tr th:only-of-type {\n",
       "        vertical-align: middle;\n",
       "    }\n",
       "\n",
       "    .dataframe tbody tr th {\n",
       "        vertical-align: top;\n",
       "    }\n",
       "\n",
       "    .dataframe thead th {\n",
       "        text-align: right;\n",
       "    }\n",
       "</style>\n",
       "<table border=\"1\" class=\"dataframe\">\n",
       "  <thead>\n",
       "    <tr style=\"text-align: right;\">\n",
       "      <th></th>\n",
       "      <th>model</th>\n",
       "      <th>rmse</th>\n",
       "      <th>r2</th>\n",
       "    </tr>\n",
       "  </thead>\n",
       "  <tbody>\n",
       "    <tr>\n",
       "      <th>0</th>\n",
       "      <td>baseline</td>\n",
       "      <td>1.451246</td>\n",
       "      <td>0.000000</td>\n",
       "    </tr>\n",
       "    <tr>\n",
       "      <th>1</th>\n",
       "      <td>ols_1</td>\n",
       "      <td>1.030841</td>\n",
       "      <td>0.525944</td>\n",
       "    </tr>\n",
       "    <tr>\n",
       "      <th>2</th>\n",
       "      <td>ols</td>\n",
       "      <td>0.354670</td>\n",
       "      <td>0.943883</td>\n",
       "    </tr>\n",
       "    <tr>\n",
       "      <th>3</th>\n",
       "      <td>lars</td>\n",
       "      <td>1.517385</td>\n",
       "      <td>-0.027161</td>\n",
       "    </tr>\n",
       "    <tr>\n",
       "      <th>5</th>\n",
       "      <td>glm</td>\n",
       "      <td>0.845078</td>\n",
       "      <td>0.681404</td>\n",
       "    </tr>\n",
       "  </tbody>\n",
       "</table>\n",
       "</div>"
      ],
      "text/plain": [
       "      model      rmse        r2\n",
       "0  baseline  1.451246  0.000000\n",
       "1     ols_1  1.030841  0.525944\n",
       "2       ols  0.354670  0.943883\n",
       "3      lars  1.517385 -0.027161\n",
       "5       glm  0.845078  0.681404"
      ]
     },
     "execution_count": 43,
     "metadata": {},
     "output_type": "execute_result"
    }
   ],
   "source": [
    "metrics_df.loc[5] = ['glm',rmse,r2]\n",
    "metrics_df"
   ]
  },
  {
   "cell_type": "code",
   "execution_count": 44,
   "id": "d8c7053f",
   "metadata": {},
   "outputs": [
    {
     "data": {
      "text/plain": [
       "array([[4.  ],\n",
       "       [3.35],\n",
       "       [2.  ],\n",
       "       [2.  ],\n",
       "       [2.5 ],\n",
       "       [3.09],\n",
       "       [3.  ],\n",
       "       [3.4 ],\n",
       "       [3.  ],\n",
       "       [3.18],\n",
       "       [1.56],\n",
       "       [1.5 ],\n",
       "       [3.  ],\n",
       "       [2.5 ],\n",
       "       [3.06],\n",
       "       [3.5 ],\n",
       "       [2.  ],\n",
       "       [3.  ],\n",
       "       [3.5 ],\n",
       "       [4.08],\n",
       "       [4.  ],\n",
       "       [2.02],\n",
       "       [2.31],\n",
       "       [2.  ],\n",
       "       [2.  ],\n",
       "       [3.  ],\n",
       "       [5.  ],\n",
       "       [5.2 ],\n",
       "       [2.71],\n",
       "       [2.  ],\n",
       "       [3.18],\n",
       "       [2.  ],\n",
       "       [2.  ],\n",
       "       [3.07],\n",
       "       [2.45],\n",
       "       [1.5 ],\n",
       "       [2.  ],\n",
       "       [4.71],\n",
       "       [3.61],\n",
       "       [2.  ],\n",
       "       [4.  ],\n",
       "       [3.  ],\n",
       "       [2.75],\n",
       "       [2.3 ],\n",
       "       [4.73],\n",
       "       [4.29],\n",
       "       [1.98],\n",
       "       [3.5 ],\n",
       "       [1.83]])"
      ]
     },
     "execution_count": 44,
     "metadata": {},
     "output_type": "execute_result"
    }
   ],
   "source": [
    "pred_test = pr.predict(X_test_degree2)\n",
    "pred_test\n"
   ]
  },
  {
   "cell_type": "code",
   "execution_count": 45,
   "id": "f28018f2",
   "metadata": {},
   "outputs": [
    {
     "data": {
      "text/plain": [
       "(4.011774188400689e-14, 1.0)"
      ]
     },
     "execution_count": 45,
     "metadata": {},
     "output_type": "execute_result"
    }
   ],
   "source": [
    "rmse, r2 = metrics_reg(y_test, pred_test)\n",
    "rmse, r2"
   ]
  },
  {
   "cell_type": "code",
   "execution_count": 46,
   "id": "9313530d",
   "metadata": {
    "scrolled": true
   },
   "outputs": [
    {
     "ename": "ValueError",
     "evalue": "The truth value of a Series is ambiguous. Use a.empty, a.bool(), a.item(), a.any() or a.all().",
     "output_type": "error",
     "traceback": [
      "\u001b[0;31m---------------------------------------------------------------------------\u001b[0m",
      "\u001b[0;31mValueError\u001b[0m                                Traceback (most recent call last)",
      "Input \u001b[0;32mIn [46]\u001b[0m, in \u001b[0;36m<cell line: 6>\u001b[0;34m()\u001b[0m\n\u001b[1;32m      3\u001b[0m plt\u001b[38;5;241m.\u001b[39mscatter(pred_glm, y_train, label\u001b[38;5;241m=\u001b[39m\u001b[38;5;124m'\u001b[39m\u001b[38;5;124mglm\u001b[39m\u001b[38;5;124m'\u001b[39m)\n\u001b[1;32m      4\u001b[0m plt\u001b[38;5;241m.\u001b[39mplot(y_train, y_train, label\u001b[38;5;241m=\u001b[39m\u001b[38;5;124m'\u001b[39m\u001b[38;5;124m_nolegend_\u001b[39m\u001b[38;5;124m'\u001b[39m, color\u001b[38;5;241m=\u001b[39m\u001b[38;5;124m'\u001b[39m\u001b[38;5;124mgrey\u001b[39m\u001b[38;5;124m'\u001b[39m)\n\u001b[0;32m----> 6\u001b[0m \u001b[43mplt\u001b[49m\u001b[38;5;241;43m.\u001b[39;49m\u001b[43maxhline\u001b[49m\u001b[43m(\u001b[49m\u001b[43mbaseline\u001b[49m\u001b[43m,\u001b[49m\u001b[43m \u001b[49m\u001b[43mls\u001b[49m\u001b[38;5;241;43m=\u001b[39;49m\u001b[38;5;124;43m'\u001b[39;49m\u001b[38;5;124;43m:\u001b[39;49m\u001b[38;5;124;43m'\u001b[39;49m\u001b[43m,\u001b[49m\u001b[43m \u001b[49m\u001b[43mcolor\u001b[49m\u001b[38;5;241;43m=\u001b[39;49m\u001b[38;5;124;43m'\u001b[39;49m\u001b[38;5;124;43mgrey\u001b[39;49m\u001b[38;5;124;43m'\u001b[39;49m\u001b[43m)\u001b[49m\n\u001b[1;32m      7\u001b[0m plt\u001b[38;5;241m.\u001b[39mannotate(\u001b[38;5;124m\"\u001b[39m\u001b[38;5;124mBaseline\u001b[39m\u001b[38;5;124m\"\u001b[39m, (\u001b[38;5;241m65\u001b[39m, \u001b[38;5;241m81\u001b[39m))\n\u001b[1;32m      9\u001b[0m plt\u001b[38;5;241m.\u001b[39mtitle(\u001b[38;5;124m\"\u001b[39m\u001b[38;5;124mWhere are predictions more extreme? More modest?\u001b[39m\u001b[38;5;124m\"\u001b[39m)\n",
      "File \u001b[0;32m/opt/homebrew/anaconda3/lib/python3.9/site-packages/matplotlib/pyplot.py:2361\u001b[0m, in \u001b[0;36maxhline\u001b[0;34m(y, xmin, xmax, **kwargs)\u001b[0m\n\u001b[1;32m   2359\u001b[0m \u001b[38;5;129m@_copy_docstring_and_deprecators\u001b[39m(Axes\u001b[38;5;241m.\u001b[39maxhline)\n\u001b[1;32m   2360\u001b[0m \u001b[38;5;28;01mdef\u001b[39;00m \u001b[38;5;21maxhline\u001b[39m(y\u001b[38;5;241m=\u001b[39m\u001b[38;5;241m0\u001b[39m, xmin\u001b[38;5;241m=\u001b[39m\u001b[38;5;241m0\u001b[39m, xmax\u001b[38;5;241m=\u001b[39m\u001b[38;5;241m1\u001b[39m, \u001b[38;5;241m*\u001b[39m\u001b[38;5;241m*\u001b[39mkwargs):\n\u001b[0;32m-> 2361\u001b[0m     \u001b[38;5;28;01mreturn\u001b[39;00m \u001b[43mgca\u001b[49m\u001b[43m(\u001b[49m\u001b[43m)\u001b[49m\u001b[38;5;241;43m.\u001b[39;49m\u001b[43maxhline\u001b[49m\u001b[43m(\u001b[49m\u001b[43my\u001b[49m\u001b[38;5;241;43m=\u001b[39;49m\u001b[43my\u001b[49m\u001b[43m,\u001b[49m\u001b[43m \u001b[49m\u001b[43mxmin\u001b[49m\u001b[38;5;241;43m=\u001b[39;49m\u001b[43mxmin\u001b[49m\u001b[43m,\u001b[49m\u001b[43m \u001b[49m\u001b[43mxmax\u001b[49m\u001b[38;5;241;43m=\u001b[39;49m\u001b[43mxmax\u001b[49m\u001b[43m,\u001b[49m\u001b[43m \u001b[49m\u001b[38;5;241;43m*\u001b[39;49m\u001b[38;5;241;43m*\u001b[39;49m\u001b[43mkwargs\u001b[49m\u001b[43m)\u001b[49m\n",
      "File \u001b[0;32m/opt/homebrew/anaconda3/lib/python3.9/site-packages/matplotlib/axes/_axes.py:734\u001b[0m, in \u001b[0;36mAxes.axhline\u001b[0;34m(self, y, xmin, xmax, **kwargs)\u001b[0m\n\u001b[1;32m    732\u001b[0m \u001b[38;5;66;03m# Strip away the units for comparison with non-unitized bounds.\u001b[39;00m\n\u001b[1;32m    733\u001b[0m yy, \u001b[38;5;241m=\u001b[39m \u001b[38;5;28mself\u001b[39m\u001b[38;5;241m.\u001b[39m_process_unit_info([(\u001b[38;5;124m\"\u001b[39m\u001b[38;5;124my\u001b[39m\u001b[38;5;124m\"\u001b[39m, y)], kwargs)\n\u001b[0;32m--> 734\u001b[0m scaley \u001b[38;5;241m=\u001b[39m (yy \u001b[38;5;241m<\u001b[39m ymin) \u001b[38;5;129;01mor\u001b[39;00m (yy \u001b[38;5;241m>\u001b[39m ymax)\n\u001b[1;32m    736\u001b[0m trans \u001b[38;5;241m=\u001b[39m \u001b[38;5;28mself\u001b[39m\u001b[38;5;241m.\u001b[39mget_yaxis_transform(which\u001b[38;5;241m=\u001b[39m\u001b[38;5;124m'\u001b[39m\u001b[38;5;124mgrid\u001b[39m\u001b[38;5;124m'\u001b[39m)\n\u001b[1;32m    737\u001b[0m l \u001b[38;5;241m=\u001b[39m mlines\u001b[38;5;241m.\u001b[39mLine2D([xmin, xmax], [y, y], transform\u001b[38;5;241m=\u001b[39mtrans, \u001b[38;5;241m*\u001b[39m\u001b[38;5;241m*\u001b[39mkwargs)\n",
      "File \u001b[0;32m/opt/homebrew/anaconda3/lib/python3.9/site-packages/pandas/core/generic.py:1527\u001b[0m, in \u001b[0;36mNDFrame.__nonzero__\u001b[0;34m(self)\u001b[0m\n\u001b[1;32m   1525\u001b[0m \u001b[38;5;129m@final\u001b[39m\n\u001b[1;32m   1526\u001b[0m \u001b[38;5;28;01mdef\u001b[39;00m \u001b[38;5;21m__nonzero__\u001b[39m(\u001b[38;5;28mself\u001b[39m):\n\u001b[0;32m-> 1527\u001b[0m     \u001b[38;5;28;01mraise\u001b[39;00m \u001b[38;5;167;01mValueError\u001b[39;00m(\n\u001b[1;32m   1528\u001b[0m         \u001b[38;5;124mf\u001b[39m\u001b[38;5;124m\"\u001b[39m\u001b[38;5;124mThe truth value of a \u001b[39m\u001b[38;5;132;01m{\u001b[39;00m\u001b[38;5;28mtype\u001b[39m(\u001b[38;5;28mself\u001b[39m)\u001b[38;5;241m.\u001b[39m\u001b[38;5;18m__name__\u001b[39m\u001b[38;5;132;01m}\u001b[39;00m\u001b[38;5;124m is ambiguous. \u001b[39m\u001b[38;5;124m\"\u001b[39m\n\u001b[1;32m   1529\u001b[0m         \u001b[38;5;124m\"\u001b[39m\u001b[38;5;124mUse a.empty, a.bool(), a.item(), a.any() or a.all().\u001b[39m\u001b[38;5;124m\"\u001b[39m\n\u001b[1;32m   1530\u001b[0m     )\n",
      "\u001b[0;31mValueError\u001b[0m: The truth value of a Series is ambiguous. Use a.empty, a.bool(), a.item(), a.any() or a.all()."
     ]
    },
    {
     "data": {
      "image/png": "[encoded data removed]",
      "text/plain": [
       "<Figure size 640x480 with 1 Axes>"
      ]
     },
     "metadata": {},
     "output_type": "display_data"
    }
   ],
   "source": [
    "plt.scatter(pred_lr2, y_train, label='linear regression')\n",
    "plt.scatter(pred_pr, y_train, label='polynominal 2deg')\n",
    "plt.scatter(pred_glm, y_train, label='glm')\n",
    "plt.plot(y_train, y_train, label='_nolegend_', color='grey')\n",
    "\n",
    "plt.axhline(baseline, ls=':', color='grey')\n",
    "plt.annotate(\"Baseline\", (65, 81))\n",
    "\n",
    "plt.title(\"Where are predictions more extreme? More modest?\")\n",
    "plt.ylabel(\"Actual Tip\")\n",
    "plt.xlabel(\"Predicted Tip\")\n",
    "plt.legend()\n",
    "\n",
    "plt.show()"
   ]
  },
  {
   "cell_type": "code",
   "execution_count": null,
   "id": "064f5600",
   "metadata": {},
   "outputs": [],
   "source": []
  },
  {
   "cell_type": "code",
   "execution_count": 47,
   "id": "7f87ac88",
   "metadata": {},
   "outputs": [
    {
     "ename": "ValueError",
     "evalue": "Unable to coerce to Series, length must be 1: given 136",
     "output_type": "error",
     "traceback": [
      "\u001b[0;31m---------------------------------------------------------------------------\u001b[0m",
      "\u001b[0;31mValueError\u001b[0m                                Traceback (most recent call last)",
      "Input \u001b[0;32mIn [47]\u001b[0m, in \u001b[0;36m<cell line: 4>\u001b[0;34m()\u001b[0m\n\u001b[1;32m      1\u001b[0m plt\u001b[38;5;241m.\u001b[39maxhline(label\u001b[38;5;241m=\u001b[39m\u001b[38;5;124m\"\u001b[39m\u001b[38;5;124mNo Error\u001b[39m\u001b[38;5;124m\"\u001b[39m)\n\u001b[1;32m      3\u001b[0m plt\u001b[38;5;241m.\u001b[39mscatter(y_train, pred_lr2 \u001b[38;5;241m-\u001b[39m y_train, alpha\u001b[38;5;241m=\u001b[39m\u001b[38;5;241m.5\u001b[39m, color\u001b[38;5;241m=\u001b[39m\u001b[38;5;124m\"\u001b[39m\u001b[38;5;124mred\u001b[39m\u001b[38;5;124m\"\u001b[39m, label\u001b[38;5;241m=\u001b[39m\u001b[38;5;124m\"\u001b[39m\u001b[38;5;124mLinearRegression\u001b[39m\u001b[38;5;124m\"\u001b[39m)\n\u001b[0;32m----> 4\u001b[0m plt\u001b[38;5;241m.\u001b[39mscatter(y_train, \u001b[43mpred_glm\u001b[49m\u001b[43m \u001b[49m\u001b[38;5;241;43m-\u001b[39;49m\u001b[43m \u001b[49m\u001b[43my_train\u001b[49m, alpha\u001b[38;5;241m=\u001b[39m\u001b[38;5;241m.5\u001b[39m, color\u001b[38;5;241m=\u001b[39m\u001b[38;5;124m\"\u001b[39m\u001b[38;5;124myellow\u001b[39m\u001b[38;5;124m\"\u001b[39m, label\u001b[38;5;241m=\u001b[39m\u001b[38;5;124m\"\u001b[39m\u001b[38;5;124mTweedieRegressor\u001b[39m\u001b[38;5;124m\"\u001b[39m)\n\u001b[1;32m      5\u001b[0m plt\u001b[38;5;241m.\u001b[39mscatter(y_train, pred_pr \u001b[38;5;241m-\u001b[39m y_train, alpha\u001b[38;5;241m=\u001b[39m\u001b[38;5;241m.5\u001b[39m, color\u001b[38;5;241m=\u001b[39m\u001b[38;5;124m\"\u001b[39m\u001b[38;5;124mgreen\u001b[39m\u001b[38;5;124m\"\u001b[39m, label\u001b[38;5;241m=\u001b[39m\u001b[38;5;124m\"\u001b[39m\u001b[38;5;124mPolynomial 2deg \u001b[39m\u001b[38;5;124m\"\u001b[39m)\n\u001b[1;32m      7\u001b[0m plt\u001b[38;5;241m.\u001b[39mlegend()\n",
      "File \u001b[0;32m/opt/homebrew/anaconda3/lib/python3.9/site-packages/pandas/core/generic.py:2101\u001b[0m, in \u001b[0;36mNDFrame.__array_ufunc__\u001b[0;34m(self, ufunc, method, *inputs, **kwargs)\u001b[0m\n\u001b[1;32m   2097\u001b[0m \u001b[38;5;129m@final\u001b[39m\n\u001b[1;32m   2098\u001b[0m \u001b[38;5;28;01mdef\u001b[39;00m \u001b[38;5;21m__array_ufunc__\u001b[39m(\n\u001b[1;32m   2099\u001b[0m     \u001b[38;5;28mself\u001b[39m, ufunc: np\u001b[38;5;241m.\u001b[39mufunc, method: \u001b[38;5;28mstr\u001b[39m, \u001b[38;5;241m*\u001b[39minputs: Any, \u001b[38;5;241m*\u001b[39m\u001b[38;5;241m*\u001b[39mkwargs: Any\n\u001b[1;32m   2100\u001b[0m ):\n\u001b[0;32m-> 2101\u001b[0m     \u001b[38;5;28;01mreturn\u001b[39;00m \u001b[43marraylike\u001b[49m\u001b[38;5;241;43m.\u001b[39;49m\u001b[43marray_ufunc\u001b[49m\u001b[43m(\u001b[49m\u001b[38;5;28;43mself\u001b[39;49m\u001b[43m,\u001b[49m\u001b[43m \u001b[49m\u001b[43mufunc\u001b[49m\u001b[43m,\u001b[49m\u001b[43m \u001b[49m\u001b[43mmethod\u001b[49m\u001b[43m,\u001b[49m\u001b[43m \u001b[49m\u001b[38;5;241;43m*\u001b[39;49m\u001b[43minputs\u001b[49m\u001b[43m,\u001b[49m\u001b[43m \u001b[49m\u001b[38;5;241;43m*\u001b[39;49m\u001b[38;5;241;43m*\u001b[39;49m\u001b[43mkwargs\u001b[49m\u001b[43m)\u001b[49m\n",
      "File \u001b[0;32m/opt/homebrew/anaconda3/lib/python3.9/site-packages/pandas/core/arraylike.py:263\u001b[0m, in \u001b[0;36marray_ufunc\u001b[0;34m(self, ufunc, method, *inputs, **kwargs)\u001b[0m\n\u001b[1;32m    260\u001b[0m     \u001b[38;5;28;01mreturn\u001b[39;00m result\n\u001b[1;32m    262\u001b[0m \u001b[38;5;66;03m# for binary ops, use our custom dunder methods\u001b[39;00m\n\u001b[0;32m--> 263\u001b[0m result \u001b[38;5;241m=\u001b[39m \u001b[43mmaybe_dispatch_ufunc_to_dunder_op\u001b[49m\u001b[43m(\u001b[49m\u001b[38;5;28;43mself\u001b[39;49m\u001b[43m,\u001b[49m\u001b[43m \u001b[49m\u001b[43mufunc\u001b[49m\u001b[43m,\u001b[49m\u001b[43m \u001b[49m\u001b[43mmethod\u001b[49m\u001b[43m,\u001b[49m\u001b[43m \u001b[49m\u001b[38;5;241;43m*\u001b[39;49m\u001b[43minputs\u001b[49m\u001b[43m,\u001b[49m\u001b[43m \u001b[49m\u001b[38;5;241;43m*\u001b[39;49m\u001b[38;5;241;43m*\u001b[39;49m\u001b[43mkwargs\u001b[49m\u001b[43m)\u001b[49m\n\u001b[1;32m    264\u001b[0m \u001b[38;5;28;01mif\u001b[39;00m result \u001b[38;5;129;01mis\u001b[39;00m \u001b[38;5;129;01mnot\u001b[39;00m \u001b[38;5;28mNotImplemented\u001b[39m:\n\u001b[1;32m    265\u001b[0m     \u001b[38;5;28;01mreturn\u001b[39;00m result\n",
      "File \u001b[0;32m/opt/homebrew/anaconda3/lib/python3.9/site-packages/pandas/_libs/ops_dispatch.pyx:113\u001b[0m, in \u001b[0;36mpandas._libs.ops_dispatch.maybe_dispatch_ufunc_to_dunder_op\u001b[0;34m()\u001b[0m\n",
      "File \u001b[0;32m/opt/homebrew/anaconda3/lib/python3.9/site-packages/pandas/core/ops/common.py:70\u001b[0m, in \u001b[0;36m_unpack_zerodim_and_defer.<locals>.new_method\u001b[0;34m(self, other)\u001b[0m\n\u001b[1;32m     66\u001b[0m             \u001b[38;5;28;01mreturn\u001b[39;00m \u001b[38;5;28mNotImplemented\u001b[39m\n\u001b[1;32m     68\u001b[0m other \u001b[38;5;241m=\u001b[39m item_from_zerodim(other)\n\u001b[0;32m---> 70\u001b[0m \u001b[38;5;28;01mreturn\u001b[39;00m \u001b[43mmethod\u001b[49m\u001b[43m(\u001b[49m\u001b[38;5;28;43mself\u001b[39;49m\u001b[43m,\u001b[49m\u001b[43m \u001b[49m\u001b[43mother\u001b[49m\u001b[43m)\u001b[49m\n",
      "File \u001b[0;32m/opt/homebrew/anaconda3/lib/python3.9/site-packages/pandas/core/arraylike.py:112\u001b[0m, in \u001b[0;36mOpsMixin.__rsub__\u001b[0;34m(self, other)\u001b[0m\n\u001b[1;32m    110\u001b[0m \u001b[38;5;129m@unpack_zerodim_and_defer\u001b[39m(\u001b[38;5;124m\"\u001b[39m\u001b[38;5;124m__rsub__\u001b[39m\u001b[38;5;124m\"\u001b[39m)\n\u001b[1;32m    111\u001b[0m \u001b[38;5;28;01mdef\u001b[39;00m \u001b[38;5;21m__rsub__\u001b[39m(\u001b[38;5;28mself\u001b[39m, other):\n\u001b[0;32m--> 112\u001b[0m     \u001b[38;5;28;01mreturn\u001b[39;00m \u001b[38;5;28;43mself\u001b[39;49m\u001b[38;5;241;43m.\u001b[39;49m\u001b[43m_arith_method\u001b[49m\u001b[43m(\u001b[49m\u001b[43mother\u001b[49m\u001b[43m,\u001b[49m\u001b[43m \u001b[49m\u001b[43mroperator\u001b[49m\u001b[38;5;241;43m.\u001b[39;49m\u001b[43mrsub\u001b[49m\u001b[43m)\u001b[49m\n",
      "File \u001b[0;32m/opt/homebrew/anaconda3/lib/python3.9/site-packages/pandas/core/frame.py:6953\u001b[0m, in \u001b[0;36mDataFrame._arith_method\u001b[0;34m(self, other, op)\u001b[0m\n\u001b[1;32m   6950\u001b[0m axis \u001b[38;5;241m=\u001b[39m \u001b[38;5;241m1\u001b[39m  \u001b[38;5;66;03m# only relevant for Series other case\u001b[39;00m\n\u001b[1;32m   6951\u001b[0m other \u001b[38;5;241m=\u001b[39m ops\u001b[38;5;241m.\u001b[39mmaybe_prepare_scalar_for_op(other, (\u001b[38;5;28mself\u001b[39m\u001b[38;5;241m.\u001b[39mshape[axis],))\n\u001b[0;32m-> 6953\u001b[0m \u001b[38;5;28mself\u001b[39m, other \u001b[38;5;241m=\u001b[39m \u001b[43mops\u001b[49m\u001b[38;5;241;43m.\u001b[39;49m\u001b[43malign_method_FRAME\u001b[49m\u001b[43m(\u001b[49m\u001b[38;5;28;43mself\u001b[39;49m\u001b[43m,\u001b[49m\u001b[43m \u001b[49m\u001b[43mother\u001b[49m\u001b[43m,\u001b[49m\u001b[43m \u001b[49m\u001b[43maxis\u001b[49m\u001b[43m,\u001b[49m\u001b[43m \u001b[49m\u001b[43mflex\u001b[49m\u001b[38;5;241;43m=\u001b[39;49m\u001b[38;5;28;43;01mTrue\u001b[39;49;00m\u001b[43m,\u001b[49m\u001b[43m \u001b[49m\u001b[43mlevel\u001b[49m\u001b[38;5;241;43m=\u001b[39;49m\u001b[38;5;28;43;01mNone\u001b[39;49;00m\u001b[43m)\u001b[49m\n\u001b[1;32m   6955\u001b[0m new_data \u001b[38;5;241m=\u001b[39m \u001b[38;5;28mself\u001b[39m\u001b[38;5;241m.\u001b[39m_dispatch_frame_op(other, op, axis\u001b[38;5;241m=\u001b[39maxis)\n\u001b[1;32m   6956\u001b[0m \u001b[38;5;28;01mreturn\u001b[39;00m \u001b[38;5;28mself\u001b[39m\u001b[38;5;241m.\u001b[39m_construct_result(new_data)\n",
      "File \u001b[0;32m/opt/homebrew/anaconda3/lib/python3.9/site-packages/pandas/core/ops/__init__.py:248\u001b[0m, in \u001b[0;36malign_method_FRAME\u001b[0;34m(left, right, axis, flex, level)\u001b[0m\n\u001b[1;32m    245\u001b[0m \u001b[38;5;28;01mif\u001b[39;00m \u001b[38;5;28misinstance\u001b[39m(right, np\u001b[38;5;241m.\u001b[39mndarray):\n\u001b[1;32m    247\u001b[0m     \u001b[38;5;28;01mif\u001b[39;00m right\u001b[38;5;241m.\u001b[39mndim \u001b[38;5;241m==\u001b[39m \u001b[38;5;241m1\u001b[39m:\n\u001b[0;32m--> 248\u001b[0m         right \u001b[38;5;241m=\u001b[39m \u001b[43mto_series\u001b[49m\u001b[43m(\u001b[49m\u001b[43mright\u001b[49m\u001b[43m)\u001b[49m\n\u001b[1;32m    250\u001b[0m     \u001b[38;5;28;01melif\u001b[39;00m right\u001b[38;5;241m.\u001b[39mndim \u001b[38;5;241m==\u001b[39m \u001b[38;5;241m2\u001b[39m:\n\u001b[1;32m    251\u001b[0m         \u001b[38;5;28;01mif\u001b[39;00m right\u001b[38;5;241m.\u001b[39mshape \u001b[38;5;241m==\u001b[39m left\u001b[38;5;241m.\u001b[39mshape:\n",
      "File \u001b[0;32m/opt/homebrew/anaconda3/lib/python3.9/site-packages/pandas/core/ops/__init__.py:239\u001b[0m, in \u001b[0;36malign_method_FRAME.<locals>.to_series\u001b[0;34m(right)\u001b[0m\n\u001b[1;32m    237\u001b[0m \u001b[38;5;28;01melse\u001b[39;00m:\n\u001b[1;32m    238\u001b[0m     \u001b[38;5;28;01mif\u001b[39;00m \u001b[38;5;28mlen\u001b[39m(left\u001b[38;5;241m.\u001b[39mcolumns) \u001b[38;5;241m!=\u001b[39m \u001b[38;5;28mlen\u001b[39m(right):\n\u001b[0;32m--> 239\u001b[0m         \u001b[38;5;28;01mraise\u001b[39;00m \u001b[38;5;167;01mValueError\u001b[39;00m(\n\u001b[1;32m    240\u001b[0m             msg\u001b[38;5;241m.\u001b[39mformat(req_len\u001b[38;5;241m=\u001b[39m\u001b[38;5;28mlen\u001b[39m(left\u001b[38;5;241m.\u001b[39mcolumns), given_len\u001b[38;5;241m=\u001b[39m\u001b[38;5;28mlen\u001b[39m(right))\n\u001b[1;32m    241\u001b[0m         )\n\u001b[1;32m    242\u001b[0m     right \u001b[38;5;241m=\u001b[39m left\u001b[38;5;241m.\u001b[39m_constructor_sliced(right, index\u001b[38;5;241m=\u001b[39mleft\u001b[38;5;241m.\u001b[39mcolumns)\n\u001b[1;32m    243\u001b[0m \u001b[38;5;28;01mreturn\u001b[39;00m right\n",
      "\u001b[0;31mValueError\u001b[0m: Unable to coerce to Series, length must be 1: given 136"
     ]
    },
    {
     "data": {
      "image/png": "[encoded data removed]",
      "text/plain": [
       "<Figure size 640x480 with 1 Axes>"
      ]
     },
     "metadata": {},
     "output_type": "display_data"
    }
   ],
   "source": [
    "plt.axhline(label=\"No Error\")\n",
    "\n",
    "plt.scatter(y_train, pred_lr2 - y_train, alpha=.5, color=\"red\", label=\"LinearRegression\")\n",
    "plt.scatter(y_train, pred_glm - y_train, alpha=.5, color=\"yellow\", label=\"TweedieRegressor\")\n",
    "plt.scatter(y_train, pred_pr - y_train, alpha=.5, color=\"green\", label=\"Polynomial 2deg \")\n",
    "\n",
    "plt.legend()\n",
    "plt.title(\"Do the size of errors change as the actual value changes?\")\n",
    "plt.xlabel(\"Actual Tip\")\n",
    "plt.ylabel(\"Residual: Predicted Tip - Actual Tip\")\n",
    "\n",
    "plt.show()"
   ]
  },
  {
   "cell_type": "code",
   "execution_count": 48,
   "id": "9a204682",
   "metadata": {
    "scrolled": true
   },
   "outputs": [
    {
     "data": {
      "image/png": "[encoded data removed]",
      "text/plain": [
       "<Figure size 640x480 with 1 Axes>"
      ]
     },
     "metadata": {},
     "output_type": "display_data"
    }
   ],
   "source": [
    "plt.hist(y_train, color='blue', alpha=.5, label=\"Actual\")\n",
    "plt.hist(pred_lr2, color='red', alpha=.5, label=\"LinearRegression\")\n",
    "plt.hist(pred_glm, color='yellow', alpha=.5, label=\"TweedieRegressor\")\n",
    "plt.hist(pred_pr, color='green', alpha=.5, label=\"Polynomial 2Deg\")\n",
    "\n",
    "plt.xlabel(\"Final Grade\")\n",
    "plt.ylabel(\"Number of Students\")\n",
    "plt.title(\"Comparing the Distribution of Actual to Predicted Grades\")\n",
    "plt.legend()\n",
    "plt.show()"
   ]
  },
  {
   "cell_type": "code",
   "execution_count": null,
   "id": "78b10586",
   "metadata": {},
   "outputs": [],
   "source": []
  },
  {
   "cell_type": "code",
   "execution_count": null,
   "id": "075308db",
   "metadata": {},
   "outputs": [],
   "source": [
    "# Fix prep file, solve the dummy problem, and redo. "
   ]
  },
  {
   "cell_type": "code",
   "execution_count": null,
   "id": "879dc52d",
   "metadata": {},
   "outputs": [],
   "source": []
  },
  {
   "cell_type": "code",
   "execution_count": null,
   "id": "f42a0c9f",
   "metadata": {},
   "outputs": [],
   "source": []
  }
 ],
 "metadata": {
  "kernelspec": {
   "display_name": "Python 3 (ipykernel)",
   "language": "python",
   "name": "python3"
  },
  "language_info": {
   "codemirror_mode": {
    "name": "ipython",
    "version": 3
   },
   "file_extension": ".py",
   "mimetype": "text/x-python",
   "name": "python",
   "nbconvert_exporter": "python",
   "pygments_lexer": "ipython3",
   "version": "3.9.13"
  }
 },
 "nbformat": 4,
 "nbformat_minor": 5
}
